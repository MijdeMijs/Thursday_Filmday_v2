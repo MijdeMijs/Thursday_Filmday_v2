{
  "nbformat": 4,
  "nbformat_minor": 0,
  "metadata": {
    "colab": {
      "provenance": [],
      "collapsed_sections": [
        "YXmi6h7tMKwP",
        "rGM1GEhehUV-",
        "-q9LWILuT7EP",
        "IybiAsRlMWZ_",
        "hmx1Ntzm7QmW",
        "nM93pNBjU8tH",
        "tlkTrALLbKo8",
        "pehqeN07ipnk",
        "2ogm7yhX5QJa",
        "qjxfyT2zHocT",
        "H7vEz0rpDQ1l",
        "emUq2nUAayWT"
      ]
    },
    "kernelspec": {
      "name": "python3",
      "display_name": "Python 3"
    },
    "language_info": {
      "name": "python"
    }
  },
  "cells": [
    {
      "cell_type": "markdown",
      "source": [
        "# Automatic processing of IMDb data\n",
        "\n",
        "In this script, IMDb data is automatically downloaded, processed and uploaded to GitHub. This enables smooth and handsfree updates of the IMDb data that is used by the Thursday Filmday v2 Streamlit app.\n",
        "\n",
        "*Date: 17 July 2025*"
      ],
      "metadata": {
        "id": "YhWGcTUyyt5h"
      }
    },
    {
      "cell_type": "markdown",
      "source": [
        "# Libraries"
      ],
      "metadata": {
        "id": "YXmi6h7tMKwP"
      }
    },
    {
      "cell_type": "code",
      "execution_count": 1,
      "metadata": {
        "id": "dzCxVuV1wuQR"
      },
      "outputs": [],
      "source": [
        "import numpy as np\n",
        "import pandas as pd\n",
        "import gzip\n",
        "from datetime import datetime\n",
        "from zoneinfo import ZoneInfo\n",
        "import sys\n",
        "import os\n",
        "import sqlite3"
      ]
    },
    {
      "cell_type": "markdown",
      "source": [
        "# Pre-check\n",
        "\n",
        "Check if GitHub token is up to date before downloading data."
      ],
      "metadata": {
        "id": "rGM1GEhehUV-"
      }
    },
    {
      "cell_type": "code",
      "source": [
        "expiry_date = datetime(2025, 9, 14, 23, 59, tzinfo=ZoneInfo(\"Europe/Amsterdam\"))\n",
        "current_date = datetime.now(ZoneInfo(\"Europe/Amsterdam\"))"
      ],
      "metadata": {
        "id": "yHHcCs6y7dOU"
      },
      "execution_count": 2,
      "outputs": []
    },
    {
      "cell_type": "markdown",
      "source": [
        "Check if GitHub token is up to date."
      ],
      "metadata": {
        "id": "LtVTDgP3k0St"
      }
    },
    {
      "cell_type": "code",
      "source": [
        "# Check GitHub token\n",
        "if current_date > expiry_date:\n",
        "    print(\"⚠️ WARNING: Token is outdated!\")\n",
        "    sys.exit(\"Token expired on \" + expiry_date.strftime('%Y-%m-%d'))\n",
        "else:\n",
        "    print(\"✅ Token is valid until \" + expiry_date.strftime('%Y-%m-%d'))"
      ],
      "metadata": {
        "colab": {
          "base_uri": "https://localhost:8080/"
        },
        "id": "-Z_7wHgbhbvu",
        "outputId": "7907ba26-31d9-4140-cce9-8518bedea0ab"
      },
      "execution_count": 3,
      "outputs": [
        {
          "output_type": "stream",
          "name": "stdout",
          "text": [
            "✅ Token is valid until 2025-09-14\n"
          ]
        }
      ]
    },
    {
      "cell_type": "markdown",
      "source": [
        "# Parameters\n",
        "\n",
        "Settings that can be changed before hand if desired."
      ],
      "metadata": {
        "id": "-q9LWILuT7EP"
      }
    },
    {
      "cell_type": "code",
      "source": [
        "min_year = 1940\n",
        "current_year = datetime.now().year\n",
        "min_runtime = 45\n",
        "max_runtime = 300"
      ],
      "metadata": {
        "id": "DPcjtCqlT9kM"
      },
      "execution_count": 4,
      "outputs": []
    },
    {
      "cell_type": "markdown",
      "source": [
        "# Data\n",
        "\n",
        "Download and unzip targeted `.tsv.gz`files.\n"
      ],
      "metadata": {
        "id": "IybiAsRlMWZ_"
      }
    },
    {
      "cell_type": "code",
      "source": [
        "def download_and_load_imdb_file(file_name, to_keep):\n",
        "    \"\"\"\n",
        "    Downloads and loads an IMDb dataset from https://datasets.imdbws.com/\n",
        "    by file name (e.g., 'title.basics'), returns it as a pandas DataFrame.\n",
        "    \"\"\"\n",
        "    base_url = \"https://datasets.imdbws.com/\"\n",
        "    gz_file = f\"{file_name}.tsv.gz\"\n",
        "    full_url = base_url + gz_file\n",
        "\n",
        "    # Download if not already downloaded\n",
        "    if not os.path.exists(gz_file):\n",
        "        print(f\"📥 Downloading {gz_file}...\")\n",
        "        os.system(f\"wget {full_url}\")\n",
        "    else:\n",
        "        print(f\"✅ {gz_file} already exists, skipping download.\")\n",
        "\n",
        "    # Read .gz file\n",
        "    with gzip.open(gz_file, 'rt', encoding='utf-8') as f:\n",
        "        df = pd.read_csv(f, sep='\\t', usecols=to_keep, na_values='\\\\N') # to_keep eliminates redundant features, thus reducing RAM\n",
        "\n",
        "    # Succes message\n",
        "    print(f\"✅ Finished downloading and unpacking {gz_file}!\")\n",
        "\n",
        "    return df"
      ],
      "metadata": {
        "id": "rc7St_cYqq0y"
      },
      "execution_count": 5,
      "outputs": []
    },
    {
      "cell_type": "code",
      "source": [
        "to_keep = ['tconst', 'titleType', 'primaryTitle', 'startYear', 'runtimeMinutes', 'genres']\n",
        "film = download_and_load_imdb_file(\"title.basics\", to_keep=to_keep)"
      ],
      "metadata": {
        "colab": {
          "base_uri": "https://localhost:8080/"
        },
        "id": "CndV3BrtqzKj",
        "outputId": "3e33f9cc-4e65-4a0b-947b-3d48898127fa"
      },
      "execution_count": 6,
      "outputs": [
        {
          "output_type": "stream",
          "name": "stdout",
          "text": [
            "📥 Downloading title.basics.tsv.gz...\n"
          ]
        },
        {
          "output_type": "stream",
          "name": "stderr",
          "text": [
            "/tmp/ipython-input-5-3450156756.py:19: DtypeWarning: Columns (7) have mixed types. Specify dtype option on import or set low_memory=False.\n",
            "  df = pd.read_csv(f, sep='\\t', usecols=to_keep, na_values='\\\\N') # to_keep eliminates redundant features, thus reducing RAM\n"
          ]
        },
        {
          "output_type": "stream",
          "name": "stdout",
          "text": [
            "✅ Finished downloading and unpacking title.basics.tsv.gz!\n"
          ]
        }
      ]
    },
    {
      "cell_type": "code",
      "source": [
        "to_keep = ['tconst', 'directors']\n",
        "crew = download_and_load_imdb_file(\"title.crew\", to_keep=to_keep)"
      ],
      "metadata": {
        "colab": {
          "base_uri": "https://localhost:8080/"
        },
        "id": "p7kwpitos3rT",
        "outputId": "e3c5955a-445c-43a5-b2c6-f2a3fdfa79ea"
      },
      "execution_count": 7,
      "outputs": [
        {
          "output_type": "stream",
          "name": "stdout",
          "text": [
            "📥 Downloading title.crew.tsv.gz...\n",
            "✅ Finished downloading and unpacking title.crew.tsv.gz!\n"
          ]
        }
      ]
    },
    {
      "cell_type": "code",
      "source": [
        "to_keep = ['nconst', 'primaryName']\n",
        "names = download_and_load_imdb_file(\"name.basics\", to_keep=None)"
      ],
      "metadata": {
        "colab": {
          "base_uri": "https://localhost:8080/"
        },
        "id": "xqgC8m0Us4Ky",
        "outputId": "bda2ebc6-e5fc-4c53-f230-449451c10e0e"
      },
      "execution_count": 8,
      "outputs": [
        {
          "output_type": "stream",
          "name": "stdout",
          "text": [
            "📥 Downloading name.basics.tsv.gz...\n",
            "✅ Finished downloading and unpacking name.basics.tsv.gz!\n"
          ]
        }
      ]
    },
    {
      "cell_type": "code",
      "source": [
        "rating = download_and_load_imdb_file(\"title.ratings\", to_keep=None)"
      ],
      "metadata": {
        "colab": {
          "base_uri": "https://localhost:8080/"
        },
        "id": "rVJbdYN7s3XB",
        "outputId": "c20f76c5-b7a5-4708-c2f3-f4e58b8c302f"
      },
      "execution_count": 9,
      "outputs": [
        {
          "output_type": "stream",
          "name": "stdout",
          "text": [
            "📥 Downloading title.ratings.tsv.gz...\n",
            "✅ Finished downloading and unpacking title.ratings.tsv.gz!\n"
          ]
        }
      ]
    },
    {
      "cell_type": "markdown",
      "source": [
        "# Post-check\n",
        "\n",
        "Generate expected data to compare to in inconsistency checks.  "
      ],
      "metadata": {
        "id": "hmx1Ntzm7QmW"
      }
    },
    {
      "cell_type": "markdown",
      "source": [
        "Make a reference dataframe for The Matrix test."
      ],
      "metadata": {
        "id": "vLS38yCrk4dg"
      }
    },
    {
      "cell_type": "code",
      "source": [
        "ref_data_1 = {\n",
        "    'tconst': 'tt0133093',\n",
        "    'titleType': 'movie',\n",
        "    'primaryTitle': 'The Matrix',\n",
        "    'startYear': 1999,\n",
        "    'runtimeMinutes': 136,\n",
        "    'main_genre': 'Action',\n",
        "    'Action': True,\n",
        "    'Adult': False,\n",
        "    'Adventure': False,\n",
        "    'Animation': False,\n",
        "    'Biography': False,\n",
        "    'Comedy': False,\n",
        "    'Crime': False,\n",
        "    'Documentary': False,\n",
        "    'Drama': False,\n",
        "    'Family': False,\n",
        "    'Fantasy': False,\n",
        "    'Film-Noir': False,\n",
        "    'Game-Show': False,\n",
        "    'History': False,\n",
        "    'Horror': False,\n",
        "    'Music': False,\n",
        "    'Musical': False,\n",
        "    'Mystery': False,\n",
        "    'News': False,\n",
        "    'Reality-TV': False,\n",
        "    'Romance': False,\n",
        "    'Sci-Fi': True,\n",
        "    'Sport': False,\n",
        "    'Talk-Show': False,\n",
        "    'Thriller': False,\n",
        "    'War': False,\n",
        "    'Western': False,\n",
        "    'other_genres': 'Sci-Fi'\n",
        "}\n",
        "columns = list(ref_data_1.keys())\n",
        "df_ref_1 = pd.DataFrame([ref_data_1], columns=columns)\n",
        "df_ref_1 = df_ref_1.sort_index(axis=1).reset_index(drop=True)"
      ],
      "metadata": {
        "id": "GqYP3RENk5DA"
      },
      "execution_count": 10,
      "outputs": []
    },
    {
      "cell_type": "markdown",
      "source": [
        "Make a reference dataframe for The Big Lebowski test."
      ],
      "metadata": {
        "id": "GajrtNBLoeWa"
      }
    },
    {
      "cell_type": "code",
      "source": [
        "Lebowski_rating = rating[rating['tconst'] == 'tt0118715'].iloc[0,1]\n",
        "Lebowski_votes = int(rating[rating['tconst'] == 'tt0118715'].iloc[0,2])"
      ],
      "metadata": {
        "id": "KtxaFHRf7-Bc"
      },
      "execution_count": 11,
      "outputs": []
    },
    {
      "cell_type": "code",
      "source": [
        "ref_data_2 = {\n",
        "    'tconst': 'tt0118715',\n",
        "    'titleType': 'movie',\n",
        "    'primaryTitle': 'The Big Lebowski',\n",
        "    'startYear': 1998,\n",
        "    'runtimeMinutes': 117,\n",
        "    'main_genre': 'Comedy',\n",
        "    'Action': False,\n",
        "    'Adult': False,\n",
        "    'Adventure': False,\n",
        "    'Animation': False,\n",
        "    'Biography': False,\n",
        "    'Comedy': True,\n",
        "    'Crime': True,\n",
        "    'Documentary': False,\n",
        "    'Drama': False,\n",
        "    'Family': False,\n",
        "    'Fantasy': False,\n",
        "    'Film-Noir': False,\n",
        "    'Game-Show': False,\n",
        "    'History': False,\n",
        "    'Horror': False,\n",
        "    'Music': False,\n",
        "    'Musical': False,\n",
        "    'Mystery': False,\n",
        "    'News': False,\n",
        "    'Reality-TV': False,\n",
        "    'Romance': False,\n",
        "    'Sci-Fi': False,\n",
        "    'Sport': False,\n",
        "    'Talk-Show': False,\n",
        "    'Thriller': False,\n",
        "    'War': False,\n",
        "    'Western': False,\n",
        "    'other_genres': 'Crime',\n",
        "    'director_1': 'nm0001054',\n",
        "    'director_2': 'nm0001053',\n",
        "    'nmDirector_1': 'Joel Coen',\n",
        "    'nmDirector_2': 'Ethan Coen',\n",
        "    'averageRating': Lebowski_rating,\n",
        "    'numVotes': Lebowski_votes\n",
        "}\n",
        "columns = list(ref_data_2.keys())\n",
        "df_ref_2 = pd.DataFrame([ref_data_2], columns=columns)\n",
        "df_ref_2 = df_ref_2.sort_index(axis=1).reset_index(drop=True)"
      ],
      "metadata": {
        "id": "uLxLHdu-nRQt"
      },
      "execution_count": 12,
      "outputs": []
    },
    {
      "cell_type": "markdown",
      "source": [
        "Make a reference dataframe for the Kill Bill test (different than earlier, because we convert to SQL and expect some changes!)."
      ],
      "metadata": {
        "id": "CpAhgEjBGPkl"
      }
    },
    {
      "cell_type": "code",
      "source": [
        "Kill_Bill_rating = rating[rating['tconst'] == 'tt0266697'].iloc[0,1]\n",
        "Kill_Bill_votes = int(rating[rating['tconst'] == 'tt0266697'].iloc[0,2])"
      ],
      "metadata": {
        "id": "rUNwu6n4GMhG"
      },
      "execution_count": 13,
      "outputs": []
    },
    {
      "cell_type": "code",
      "source": [
        "ref_data_3 = {\n",
        "    'tconst': 'tt0266697',\n",
        "    'titleType': 'movie',\n",
        "    'primaryTitle': 'Kill Bill: Vol. 1',\n",
        "    'startYear': 2003,\n",
        "    'runtimeMinutes': 111,\n",
        "    'main_genre': 'Action',\n",
        "    'Action': 1,\n",
        "    'Adult': 0,\n",
        "    'Adventure': 0,\n",
        "    'Animation': 0,\n",
        "    'Biography': 0,\n",
        "    'Comedy': 0,\n",
        "    'Crime': 1,\n",
        "    'Documentary': 0,\n",
        "    'Drama': 0,\n",
        "    'Family': 0,\n",
        "    'Fantasy': 0,\n",
        "    'Film-Noir': 0,\n",
        "    'Game-Show': 0,\n",
        "    'History': 0,\n",
        "    'Horror': 0,\n",
        "    'Music': 0,\n",
        "    'Musical': 0,\n",
        "    'Mystery': 0,\n",
        "    'News': 0,\n",
        "    'Reality-TV': 0,\n",
        "    'Romance': 0,\n",
        "    'Sci-Fi': 0,\n",
        "    'Sport': 0,\n",
        "    'Talk-Show': 0,\n",
        "    'Thriller': 1,\n",
        "    'War': 0,\n",
        "    'Western': 0,\n",
        "    'other_genres': 'Crime, Thriller',\n",
        "    'director_1': 'nm0000233',\n",
        "    'director_2': None,\n",
        "    'nmDirector_1': 'Quentin Tarantino',\n",
        "    'nmDirector_2': None,\n",
        "    'averageRating': Kill_Bill_rating,\n",
        "    'numVotes': Kill_Bill_votes\n",
        "}\n",
        "columns = list(ref_data_3.keys())\n",
        "df_ref_3 = pd.DataFrame([ref_data_3], columns=columns)\n",
        "df_ref_3 = df_ref_3.sort_index(axis=1).reset_index(drop=True)"
      ],
      "metadata": {
        "id": "WFxyefHSGdYV"
      },
      "execution_count": 14,
      "outputs": []
    },
    {
      "cell_type": "markdown",
      "source": [
        "# Process title.basics\n",
        "\n",
        "The `title.basics` dataframe (`film`) is processed."
      ],
      "metadata": {
        "id": "nM93pNBjU8tH"
      }
    },
    {
      "cell_type": "markdown",
      "source": [
        "From the feature `titleType`, only the type `movie` is kept."
      ],
      "metadata": {
        "id": "mIkTx1i-WPLB"
      }
    },
    {
      "cell_type": "code",
      "source": [
        "film = film[film['titleType'] == 'movie']"
      ],
      "metadata": {
        "id": "76Ak4TlIOYSO"
      },
      "execution_count": 15,
      "outputs": []
    },
    {
      "cell_type": "markdown",
      "source": [
        "From feature `startYear`, all `NaN` are dropped, feature is made `int` and feature is filtered between `min_year` and `current_year`."
      ],
      "metadata": {
        "id": "cVdkngu1W2Ps"
      }
    },
    {
      "cell_type": "code",
      "source": [
        "film = film[film['startYear'].notna()]\n",
        "film = film.astype({'startYear': 'int'})\n",
        "film = film[(film['startYear'] >= min_year) & (film['startYear'] <= current_year)]"
      ],
      "metadata": {
        "id": "4w84zbOyu30n"
      },
      "execution_count": 16,
      "outputs": []
    },
    {
      "cell_type": "markdown",
      "source": [
        "From feature `runtimeMinutes`, all `NaN` are dropped, feature is made `int` and feature is filtered between `min_runtime` and `max_runtime`."
      ],
      "metadata": {
        "id": "YK9QXR_ZXfFP"
      }
    },
    {
      "cell_type": "code",
      "source": [
        "film = film[film['runtimeMinutes'].notna()]\n",
        "film = film.astype({'runtimeMinutes': 'int'})\n",
        "film = film[(film['runtimeMinutes'] >= min_runtime) & (film['runtimeMinutes'] <= max_runtime)]"
      ],
      "metadata": {
        "id": "0cDoAvZeNdGY"
      },
      "execution_count": 17,
      "outputs": []
    },
    {
      "cell_type": "markdown",
      "source": [
        "From feature `genres`, all `NaN` instances are dropped."
      ],
      "metadata": {
        "id": "JQRJxAd7eIsZ"
      }
    },
    {
      "cell_type": "code",
      "source": [
        "film = film[film['genres'].notna()]"
      ],
      "metadata": {
        "id": "t6_OK4qIaY43"
      },
      "execution_count": 18,
      "outputs": []
    },
    {
      "cell_type": "markdown",
      "source": [
        "Feature `genres` is split into `genre_1`, `genre_2` and `genre_3`."
      ],
      "metadata": {
        "id": "ASq4d9EteQ2d"
      }
    },
    {
      "cell_type": "code",
      "source": [
        "# Split genres into multiple columns\n",
        "genres_split = film['genres'].str.split(pat=\",\", expand=True)\n",
        "\n",
        "# Rename columns\n",
        "genres_split.columns = [f'genre_{i+1}' for i in range(genres_split.shape[1])]\n",
        "\n",
        "# Join new columns back to original DataFrame\n",
        "film = pd.concat([film, genres_split], axis=1)"
      ],
      "metadata": {
        "id": "Dr4NuUG0X2LK"
      },
      "execution_count": 19,
      "outputs": []
    },
    {
      "cell_type": "markdown",
      "source": [
        "Generate dummies from all genres and concat them to `film`."
      ],
      "metadata": {
        "id": "DTm2YEmzfJB4"
      }
    },
    {
      "cell_type": "code",
      "source": [
        "# Stack genre columns\n",
        "stacked = film[['genre_1', 'genre_2', 'genre_3']].stack()\n",
        "\n",
        "# Get dummies\n",
        "dummies = pd.get_dummies(stacked).groupby(level=0).max()\n",
        "\n",
        "# Drop genre 'None'\n",
        "dummies = dummies.drop(columns='None', errors='ignore')\n",
        "\n",
        "# Concatenate to original DataFrame\n",
        "film = pd.concat([film, dummies], axis=1)"
      ],
      "metadata": {
        "id": "_cM9IUhmc1Rd"
      },
      "execution_count": 20,
      "outputs": []
    },
    {
      "cell_type": "markdown",
      "source": [
        "Rename `genre_1` to `main_genre` and combine `genre_2` and `genre_3` to one feature `other_genres`. Drop original split features."
      ],
      "metadata": {
        "id": "3XNoQgFvew-q"
      }
    },
    {
      "cell_type": "code",
      "source": [
        "film = film.rename(columns={\"genre_1\": \"main_genre\"})\n",
        "\n",
        "film['other_genres'] = film.apply(\n",
        "    lambda row: ', '.join(\n",
        "        str(val) for val in [row['genre_2'], row['genre_3']] if pd.notnull(val)\n",
        "    ) if pd.notnull(row['genre_2']) or pd.notnull(row['genre_3']) else None,\n",
        "    axis=1\n",
        ")\n",
        "\n",
        "film = film.drop(columns=['genres', 'genre_2', 'genre_3'])"
      ],
      "metadata": {
        "id": "Co0y6I5Pdn-H"
      },
      "execution_count": 21,
      "outputs": []
    },
    {
      "cell_type": "markdown",
      "source": [
        "Reset `film` index"
      ],
      "metadata": {
        "id": "tlaT8uNnfkv1"
      }
    },
    {
      "cell_type": "code",
      "source": [
        "film.reset_index(drop=True, inplace=True)"
      ],
      "metadata": {
        "id": "LFYBG7aUUrYi"
      },
      "execution_count": 22,
      "outputs": []
    },
    {
      "cell_type": "markdown",
      "source": [
        "Perform The Matrix test!"
      ],
      "metadata": {
        "id": "odbPnah5foGB"
      }
    },
    {
      "cell_type": "code",
      "source": [
        "# The Matrix test\n",
        "df_target = film[film['tconst'] == 'tt0133093']\n",
        "df_target = df_target.sort_index(axis=1).reset_index(drop=True)\n",
        "\n",
        "if not df_target.equals(df_ref_1):\n",
        "    print(\"⚠️ WARNING: Matrix test failed! Unexpected DataFrame!\")\n",
        "    sys.exit(\"DataFrame is inconsistent with reference!\")\n",
        "else:\n",
        "    print(\"✅ Marix test passed: DataFrame is consistent with reference.\")"
      ],
      "metadata": {
        "colab": {
          "base_uri": "https://localhost:8080/"
        },
        "id": "r2ZvjwyxlLb8",
        "outputId": "945fa0d6-dd86-4274-fdd9-be62691f98d5"
      },
      "execution_count": 23,
      "outputs": [
        {
          "output_type": "stream",
          "name": "stdout",
          "text": [
            "✅ Marix test passed: DataFrame is consistent with reference.\n"
          ]
        }
      ]
    },
    {
      "cell_type": "markdown",
      "source": [
        "# Process title.crew\n",
        "\n",
        "The `title.crew` dataframe (`crew`) is merged to `film`, and further processed."
      ],
      "metadata": {
        "id": "tlkTrALLbKo8"
      }
    },
    {
      "cell_type": "markdown",
      "source": [
        "The `crew` dataframe is left merged with `film` in the ID feature `tconst`."
      ],
      "metadata": {
        "id": "noWx2eXYc0uc"
      }
    },
    {
      "cell_type": "code",
      "source": [
        "film = film.merge(crew, how='left', on='tconst')"
      ],
      "metadata": {
        "id": "mNCwDIJobSgy"
      },
      "execution_count": 24,
      "outputs": []
    },
    {
      "cell_type": "markdown",
      "source": [
        "The new `directors` feature in `df` is split into `director_1` and `director_2`. The combined feature `directors` is dropped.  "
      ],
      "metadata": {
        "id": "42ZGghzZdrhX"
      }
    },
    {
      "cell_type": "code",
      "source": [
        "# Split directors into multiple columns\n",
        "directors_split = film['directors'].str.split(pat=\",\", expand=True)\n",
        "\n",
        "# Rename columns\n",
        "directors_split.columns = [f'director_{i+1}' for i in range(directors_split.shape[1])]\n",
        "\n",
        "# Join new columns back to original DataFrame\n",
        "film = pd.concat([film, directors_split], axis=1)\n",
        "\n",
        "film = film.drop(columns='directors')"
      ],
      "metadata": {
        "id": "ihf6cD6zdqaF"
      },
      "execution_count": 25,
      "outputs": []
    },
    {
      "cell_type": "markdown",
      "source": [
        "Remove all directors except `director_1` and `director_2`."
      ],
      "metadata": {
        "id": "7Qz9ZeOHjSyT"
      }
    },
    {
      "cell_type": "code",
      "source": [
        "film = film.drop(film.columns[36:], axis=1)"
      ],
      "metadata": {
        "id": "OhPrbGUrfj76"
      },
      "execution_count": 26,
      "outputs": []
    },
    {
      "cell_type": "markdown",
      "source": [
        "# Process names.basics\n",
        "\n",
        "Director names are added to `film` in two features."
      ],
      "metadata": {
        "id": "pehqeN07ipnk"
      }
    },
    {
      "cell_type": "markdown",
      "source": [
        "Merge the `names.basics` to `film` in the director ID `director_1`."
      ],
      "metadata": {
        "id": "PLg2WCPwkyBV"
      }
    },
    {
      "cell_type": "code",
      "source": [
        "# Merge names to df on dirtector_1\n",
        "film = pd.merge(film, names[['nconst', 'primaryName']], left_on='director_1', right_on='nconst', how='left')\n",
        "film = film.rename(columns={'primaryName': 'nmDirector_1'})\n",
        "film = film.drop(columns='nconst')"
      ],
      "metadata": {
        "id": "p0T9G_XuitqS"
      },
      "execution_count": 27,
      "outputs": []
    },
    {
      "cell_type": "code",
      "source": [
        "# Merge names to df on dirtector_2\n",
        "film = pd.merge(film, names[['nconst', 'primaryName']], left_on='director_2', right_on='nconst', how='left')\n",
        "film = film.rename(columns={'primaryName': 'nmDirector_2'})\n",
        "film = film.drop(columns='nconst')"
      ],
      "metadata": {
        "id": "zNoj0DhEkvO_"
      },
      "execution_count": 28,
      "outputs": []
    },
    {
      "cell_type": "markdown",
      "source": [
        "# Process title.ratings\n",
        "\n",
        "Film ratings from `rating` are merged to `film` and inconsitencies are checked."
      ],
      "metadata": {
        "id": "2ogm7yhX5QJa"
      }
    },
    {
      "cell_type": "markdown",
      "source": [
        "Left merge `film` and `rating` on ID feature `tconst`."
      ],
      "metadata": {
        "id": "qF_VW-p1BvxL"
      }
    },
    {
      "cell_type": "code",
      "source": [
        "film = film.merge(rating, how='left', on='tconst')"
      ],
      "metadata": {
        "id": "psFmkNZw5TUK"
      },
      "execution_count": 29,
      "outputs": []
    },
    {
      "cell_type": "markdown",
      "source": [
        "Filter `NaN` from features `averageRating` and `numVotes`."
      ],
      "metadata": {
        "id": "f3iMTTBSB6ot"
      }
    },
    {
      "cell_type": "code",
      "source": [
        "film = film[film['averageRating'].notna()]\n",
        "film = film[film['numVotes'].notna()]"
      ],
      "metadata": {
        "id": "uCPg9peSBaXJ"
      },
      "execution_count": 30,
      "outputs": []
    },
    {
      "cell_type": "markdown",
      "source": [
        "Make feature `numVotes` of `int` type."
      ],
      "metadata": {
        "id": "mOHC7mvUCdrT"
      }
    },
    {
      "cell_type": "code",
      "source": [
        "film = film.astype({'numVotes': 'int'})"
      ],
      "metadata": {
        "id": "ewtW1qtrAt5S"
      },
      "execution_count": 31,
      "outputs": []
    },
    {
      "cell_type": "markdown",
      "source": [
        "Perform The Big Lebowski test!"
      ],
      "metadata": {
        "id": "oxx4uXQ_mQYw"
      }
    },
    {
      "cell_type": "code",
      "source": [
        "# The Big Lebowski test\n",
        "df_target = film[film['tconst'] == 'tt0118715']\n",
        "df_target = df_target.sort_index(axis=1).reset_index(drop=True)\n",
        "\n",
        "if not df_target.equals(df_ref_2):\n",
        "    print(\"⚠️ WARNING: Big Lebowski test failed! Unexpected DataFrame!\")\n",
        "    sys.exit(\"DataFrame is inconsistent with reference!\")\n",
        "else:\n",
        "    print(\"✅ Big Lebowski test passed: DataFrame is consistent with reference.\")"
      ],
      "metadata": {
        "colab": {
          "base_uri": "https://localhost:8080/"
        },
        "id": "ipOquY1mlHTk",
        "outputId": "b405220f-e252-47ed-98e1-a3f40d26bd17"
      },
      "execution_count": 32,
      "outputs": [
        {
          "output_type": "stream",
          "name": "stdout",
          "text": [
            "✅ Big Lebowski test passed: DataFrame is consistent with reference.\n"
          ]
        }
      ]
    },
    {
      "cell_type": "markdown",
      "source": [
        "# Process film\n",
        "\n",
        "Final dataframe processing."
      ],
      "metadata": {
        "id": "qjxfyT2zHocT"
      }
    },
    {
      "cell_type": "markdown",
      "source": [
        "Make all `None` values `NaN`."
      ],
      "metadata": {
        "id": "Ro0c4a6jHwpU"
      }
    },
    {
      "cell_type": "code",
      "source": [
        "film.replace({None: np.nan}, inplace=True)"
      ],
      "metadata": {
        "id": "XQ25P-OaHtHZ"
      },
      "execution_count": 33,
      "outputs": []
    },
    {
      "cell_type": "markdown",
      "source": [
        "# Data to SQL\n",
        "\n",
        "Pandas dataframe is converted to SQL and checked for inconsistencies."
      ],
      "metadata": {
        "id": "H7vEz0rpDQ1l"
      }
    },
    {
      "cell_type": "markdown",
      "source": [
        "Write `film` to table `film_data` in the SQL database `film_database.db`."
      ],
      "metadata": {
        "id": "xi9TBMA7EtAG"
      }
    },
    {
      "cell_type": "code",
      "source": [
        "# Step 1: Create a connection to an SQLite database (it will create the file if it doesn't exist)\n",
        "conn = sqlite3.connect('film_database.db')  # You can specify the path where you want the .db file to be saved\n",
        "\n",
        "# Step 2: Write the DataFrame to the SQL database\n",
        "film.to_sql('film_data', conn, if_exists='replace', index=False)\n",
        "\n",
        "# Step 3: Close the connection\n",
        "conn.close()"
      ],
      "metadata": {
        "id": "BcxLu5DuDTel"
      },
      "execution_count": 34,
      "outputs": []
    },
    {
      "cell_type": "markdown",
      "source": [
        "SQL check:\n"
      ],
      "metadata": {
        "id": "nEIjKd06FbAe"
      }
    },
    {
      "cell_type": "code",
      "source": [
        "# Query the database\n",
        "conn = sqlite3.connect('film_database.db')\n",
        "query = \"SELECT * FROM film_data\"\n",
        "df_SQL = pd.read_sql(query, conn)\n",
        "\n",
        "conn.close()"
      ],
      "metadata": {
        "id": "3UmalCwvD4rA"
      },
      "execution_count": 35,
      "outputs": []
    },
    {
      "cell_type": "code",
      "source": [
        "# The Kill Bill test\n",
        "df_target = df_SQL[df_SQL['tconst'] == 'tt0266697']\n",
        "df_target = df_target.sort_index(axis=1).reset_index(drop=True)\n",
        "\n",
        "if not df_target.equals(df_ref_3):\n",
        "    print(\"⚠️ WARNING: Kill Bill test failed! Unexpected DataFrame!\")\n",
        "    sys.exit(\"DataFrame is inconsistent with reference!\")\n",
        "else:\n",
        "    print(\"✅ Kill Bill test passed: DataFrame is consistent with reference.\")"
      ],
      "metadata": {
        "colab": {
          "base_uri": "https://localhost:8080/"
        },
        "id": "Ud9GF1XDFqTu",
        "outputId": "3249d6b7-1f47-4a53-8b9f-83f8ef5a783f"
      },
      "execution_count": 36,
      "outputs": [
        {
          "output_type": "stream",
          "name": "stdout",
          "text": [
            "✅ Kill Bill test passed: DataFrame is consistent with reference.\n"
          ]
        }
      ]
    },
    {
      "cell_type": "markdown",
      "source": [
        "# GitHub\n",
        "\n",
        "Connect to GitHub and upload `film_database.db` and a timestamp `film_data_update.txt`."
      ],
      "metadata": {
        "id": "emUq2nUAayWT"
      }
    },
    {
      "cell_type": "markdown",
      "source": [
        "Configure git login."
      ],
      "metadata": {
        "id": "M7G_GwLGgaQp"
      }
    },
    {
      "cell_type": "code",
      "source": [
        "!git config --global user.name \"username\"\n",
        "!git config --global user.email \"user@email.com\"\n",
        "!git config --global user.password \"xxxxx\""
      ],
      "metadata": {
        "id": "88jsbv8Naz9t"
      },
      "execution_count": 37,
      "outputs": []
    },
    {
      "cell_type": "markdown",
      "source": [
        "Clone `Thursday_Filmday_v2` repository."
      ],
      "metadata": {
        "id": "mtthYs_Zgf2U"
      }
    },
    {
      "cell_type": "code",
      "source": [
        "token = \"ghp_xxxxx\"\n",
        "username = \"usernane\"\n",
        "repo = \"Thursday_Filmday_v2\""
      ],
      "metadata": {
        "id": "FND37m2zb9sV"
      },
      "execution_count": 38,
      "outputs": []
    },
    {
      "cell_type": "code",
      "source": [
        "!git clone https://{token}@github.com/{username}/{repo}"
      ],
      "metadata": {
        "colab": {
          "base_uri": "https://localhost:8080/"
        },
        "id": "V8jiDuv0cQN3",
        "outputId": "c4610e8b-5ea4-4d8d-9696-bef53f6ee0e9"
      },
      "execution_count": 39,
      "outputs": [
        {
          "output_type": "stream",
          "name": "stdout",
          "text": [
            "Cloning into 'Thursday_Filmday_v2'...\n",
            "remote: Enumerating objects: 133, done.\u001b[K\n",
            "remote: Counting objects: 100% (133/133), done.\u001b[K\n",
            "remote: Compressing objects: 100% (90/90), done.\u001b[K\n",
            "remote: Total 133 (delta 42), reused 113 (delta 29), pack-reused 0 (from 0)\u001b[K\n",
            "Receiving objects: 100% (133/133), 14.01 MiB | 20.58 MiB/s, done.\n",
            "Resolving deltas: 100% (42/42), done.\n"
          ]
        }
      ]
    },
    {
      "cell_type": "markdown",
      "source": [
        "Change directory to `Thursday_Filmday_v2` (necessary for commit and push)."
      ],
      "metadata": {
        "id": "1hmI87_KubyJ"
      }
    },
    {
      "cell_type": "code",
      "source": [
        "%cd Thursday_Filmday_v2"
      ],
      "metadata": {
        "colab": {
          "base_uri": "https://localhost:8080/"
        },
        "id": "ZzdEYFUblmv-",
        "outputId": "8b8db751-1f99-4fed-9ca8-46f2015e385d"
      },
      "execution_count": 40,
      "outputs": [
        {
          "output_type": "stream",
          "name": "stdout",
          "text": [
            "/content/Thursday_Filmday_v2\n"
          ]
        }
      ]
    },
    {
      "cell_type": "markdown",
      "source": [
        "Move `film_database.db` to `Thursday_Filmday_v2/data/`."
      ],
      "metadata": {
        "id": "0n_gSoavgq8V"
      }
    },
    {
      "cell_type": "code",
      "source": [
        "!mv /content/film_database.db /content/Thursday_Filmday_v2/data"
      ],
      "metadata": {
        "id": "YzCbZnM5cyYk"
      },
      "execution_count": 41,
      "outputs": []
    },
    {
      "cell_type": "markdown",
      "source": [
        "Add a timestamp in `.txt` file to `Thursday_Filmday_v2/utils/`."
      ],
      "metadata": {
        "id": "x8_hxVFDhX2G"
      }
    },
    {
      "cell_type": "code",
      "source": [
        "timestamp = current_date.strftime(\"%-d %B %Y\")\n",
        "\n",
        "with open(\"utils/film_data_update.txt\", \"w\") as f:\n",
        "    f.write(timestamp)"
      ],
      "metadata": {
        "id": "i34SBzr2hZ_u"
      },
      "execution_count": 42,
      "outputs": []
    },
    {
      "cell_type": "markdown",
      "source": [
        "Add commit message with current date and time, and commit and push at once."
      ],
      "metadata": {
        "id": "km_1BzBvg2Ju"
      }
    },
    {
      "cell_type": "code",
      "source": [
        "GitHub_date = current_date.strftime(\"%Y-%m-%d %H:%M\")\n",
        "commit_message = f\"Film data update: {GitHub_date}\""
      ],
      "metadata": {
        "id": "Aphpl3EYe1cn"
      },
      "execution_count": 43,
      "outputs": []
    },
    {
      "cell_type": "code",
      "source": [
        "!git add .\n",
        "!git commit -m \"{commit_message}\"\n",
        "!git push"
      ],
      "metadata": {
        "colab": {
          "base_uri": "https://localhost:8080/"
        },
        "id": "I5k_bKSIefYb",
        "outputId": "c7e0a89a-e59b-4b8c-9d95-a5b29c63bda6"
      },
      "execution_count": 44,
      "outputs": [
        {
          "output_type": "stream",
          "name": "stdout",
          "text": [
            "[main cfb888f] Film data update: 2025-07-17 16:01\n",
            " 2 files changed, 1 insertion(+)\n",
            " create mode 100644 utils/film_data_update.txt\n",
            "Enumerating objects: 10, done.\n",
            "Counting objects: 100% (10/10), done.\n",
            "Delta compression using up to 2 threads\n",
            "Compressing objects: 100% (4/4), done.\n",
            "Writing objects: 100% (6/6), 3.04 KiB | 3.04 MiB/s, done.\n",
            "Total 6 (delta 2), reused 0 (delta 0), pack-reused 0\n",
            "remote: Resolving deltas: 100% (2/2), completed with 2 local objects.\u001b[K\n",
            "To https://github.com/MijdeMijs/Thursday_Filmday_v2\n",
            "   38e74a3..cfb888f  main -> main\n"
          ]
        }
      ]
    },
    {
      "cell_type": "markdown",
      "source": [
        "# If succes"
      ],
      "metadata": {
        "id": "lXTn-okoxZ5c"
      }
    },
    {
      "cell_type": "code",
      "source": [
        "print(current_date.strftime('%Y-%m-%d (%H:%M:%S)\\n\\n' + \"✅ Update succesful!\"))"
      ],
      "metadata": {
        "colab": {
          "base_uri": "https://localhost:8080/"
        },
        "id": "LCjNqlnpwevV",
        "outputId": "0aadd3c9-5827-42d9-f6af-01e8f7588dee"
      },
      "execution_count": 60,
      "outputs": [
        {
          "output_type": "stream",
          "name": "stdout",
          "text": [
            "2025-07-17 (16:01:34)\n",
            "\n",
            "✅ Update succesful!\n"
          ]
        }
      ]
    }
  ]
}